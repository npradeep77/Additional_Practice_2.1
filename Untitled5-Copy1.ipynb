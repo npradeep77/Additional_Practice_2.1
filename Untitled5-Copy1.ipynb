{
 "cells": [
  {
   "cell_type": "markdown",
   "metadata": {},
   "source": [
    "#Ans1"
   ]
  },
  {
   "cell_type": "code",
   "execution_count": 1,
   "metadata": {},
   "outputs": [
    {
     "name": "stdout",
     "output_type": "stream",
     "text": [
      "acadgildacadgildacadgildacadgildacadgild\n"
     ]
    }
   ],
   "source": [
    "# Define a lambda function: echo_name\n",
    "echo_name = (lambda x,echo_name : x * echo_name )\n",
    "# Call echo_name with parameters (\"acadgild\",5)\n",
    "result = echo_name (\"acadgild\",5)\n",
    "# Print result\n",
    "print(result)"
   ]
  },
  {
   "cell_type": "markdown",
   "metadata": {},
   "source": [
    "#Ans2"
   ]
  },
  {
   "cell_type": "code",
   "execution_count": 2,
   "metadata": {},
   "outputs": [
    {
     "name": "stdout",
     "output_type": "stream",
     "text": [
      "[120.56, 79.7, 117.14, 118.03999999999999]\n"
     ]
    }
   ],
   "source": [
    "Celsius = [49.2, 26.5, 47.3, 47.8] \n",
    "Fahrenheit = list(map(lambda x: (float(9)/5)*x + 32, Celsius))\n",
    "print(Fahrenheit)"
   ]
  },
  {
   "cell_type": "markdown",
   "metadata": {},
   "source": [
    "#ANS3"
   ]
  },
  {
   "cell_type": "code",
   "execution_count": 13,
   "metadata": {},
   "outputs": [
    {
     "name": "stdout",
     "output_type": "stream",
     "text": [
      "['e', 'o', 'e', 'o', 'a', 'a', 'i']\n"
     ]
    }
   ],
   "source": [
    "sentence =  \"123@Welc34ometo12@ac#adGild\"\n",
    "vowels = \"aeiouAEIOU\"\n",
    "finalVowel = []\n",
    "\n",
    "# Return True if arg is in vowels; otherwise, return False\n",
    "isVowel = lambda arg: arg in vowels\n",
    "\n",
    "def vowelFilter(sentence):\n",
    "    for letter in sentence:\n",
    "        if isVowel(letter):  # Call the lambda to test if letter is a vowel\n",
    "            finalVowel.append(letter)\n",
    "    return finalVowel\n",
    "\n",
    "print (vowelFilter(sentence))"
   ]
  },
  {
   "cell_type": "code",
   "execution_count": null,
   "metadata": {},
   "outputs": [],
   "source": []
  },
  {
   "cell_type": "markdown",
   "metadata": {},
   "source": [
    "#Ans4"
   ]
  },
  {
   "cell_type": "code",
   "execution_count": 11,
   "metadata": {},
   "outputs": [
    {
     "name": "stdout",
     "output_type": "stream",
     "text": [
      "['e', 'o', 'e', 'o', 'a', 'a', 'i']\n"
     ]
    }
   ],
   "source": [
    "sentence =  \"123@Welc34ometo12@ac#adGild\"\n",
    "vowels = \"aeiouAEIOU\"\n",
    "finalVowel = []\n",
    "\n",
    "# Return True if arg is in vowels; otherwise, return False\n",
    "isVowel = lambda arg: arg in vowels\n",
    "\n",
    "def vowelFilter(sentence):\n",
    "    for letter in sentence:\n",
    "        if isVowel(letter):  # Call the lambda to test if letter is a vowel\n",
    "            finalVowel.append(letter)\n",
    "    return finalVowel\n",
    "\n",
    "print (vowelFilter(sentence))"
   ]
  },
  {
   "cell_type": "markdown",
   "metadata": {},
   "source": [
    "#Ans5"
   ]
  },
  {
   "cell_type": "code",
   "execution_count": 12,
   "metadata": {},
   "outputs": [
    {
     "name": "stdout",
     "output_type": "stream",
     "text": [
      "Longest word is : Feburary \n"
     ]
    }
   ],
   "source": [
    "#Define functin to find the longest word\n",
    "def longestWord(inplist):\n",
    "    lword=max(inplist, key=lambda s: (len(s), s))\n",
    "    #return longestword\n",
    "    return lword\n",
    "    \n",
    "#initialise list\n",
    "\n",
    "input_value = [\"January\",\"Feburary\",\"March\",\"April\",\"May\",\"June\",\"July\"] \n",
    "\n",
    "#call longestWord function\n",
    "final_result=longestWord(input_value)\n",
    "#print output\n",
    "print(\"Longest word is : {} \".format(final_result))"
   ]
  }
 ],
 "metadata": {
  "kernelspec": {
   "display_name": "Python 3",
   "language": "python",
   "name": "python3"
  },
  "language_info": {
   "codemirror_mode": {
    "name": "ipython",
    "version": 3
   },
   "file_extension": ".py",
   "mimetype": "text/x-python",
   "name": "python",
   "nbconvert_exporter": "python",
   "pygments_lexer": "ipython3",
   "version": "3.6.5"
  }
 },
 "nbformat": 4,
 "nbformat_minor": 2
}
